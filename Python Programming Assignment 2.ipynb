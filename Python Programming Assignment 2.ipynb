{
 "cells": [
  {
   "cell_type": "code",
   "execution_count": 4,
   "id": "6762b2aa",
   "metadata": {},
   "outputs": [
    {
     "name": "stdout",
     "output_type": "stream",
     "text": [
      "Enter no.of Kilometers = 1.65\n",
      "1.65 Kilometers is equivalent to 1.0254816656308265 Miles\n"
     ]
    }
   ],
   "source": [
    "#1.Python program to convert kilometers to miles\n",
    "\n",
    "K = float(input('Enter no.of Kilometers = '))\n",
    "M = K/1.609\n",
    "print('{0} Kilometers is equivalent to {1} Miles'.format(K,M))"
   ]
  },
  {
   "cell_type": "code",
   "execution_count": 8,
   "id": "f07f139b",
   "metadata": {},
   "outputs": [
    {
     "name": "stdout",
     "output_type": "stream",
     "text": [
      "Enter the temperature in Celsius = 56.7\n",
      "56.7degrees Celsius is equivalent to 134.06degrees Fahrenheit\n"
     ]
    }
   ],
   "source": [
    "#2.Python program to convert Celsius to Fahrenheit\n",
    "\n",
    "C = float(input('Enter the temperature in Celsius = '))\n",
    "F = C*1.8+32\n",
    "\n",
    "print('{0}degrees Celsius is equivalent to {1}degrees Fahrenheit'.format(C,F))"
   ]
  },
  {
   "cell_type": "code",
   "execution_count": 17,
   "id": "fb32b7aa",
   "metadata": {},
   "outputs": [
    {
     "name": "stdout",
     "output_type": "stream",
     "text": [
      "Enter year: 1998\n",
      "Enter month: 2\n",
      "   February 1998\n",
      "Mo Tu We Th Fr Sa Su\n",
      "                   1\n",
      " 2  3  4  5  6  7  8\n",
      " 9 10 11 12 13 14 15\n",
      "16 17 18 19 20 21 22\n",
      "23 24 25 26 27 28\n",
      "\n"
     ]
    }
   ],
   "source": [
    "#3.Python program to display calendar\n",
    "\n",
    "import calendar  \n",
    "\n",
    "year = int(input(\"Enter year: \"))  \n",
    "month = int(input(\"Enter month: \"))  \n",
    "  \n",
    "print(calendar.month(year,month))"
   ]
  },
  {
   "cell_type": "code",
   "execution_count": 27,
   "id": "173dbf9e",
   "metadata": {},
   "outputs": [
    {
     "name": "stdout",
     "output_type": "stream",
     "text": [
      "Enter the values of a,b,c in ax^2 + bx + c repectively 5 6 7\n",
      "The values of the roots are (-15+25.495097567963924j), (-15-25.495097567963924j)\n"
     ]
    }
   ],
   "source": [
    "#4.Python program to solve quadratic equation\n",
    "\n",
    "a, b, c = map(int,input('Enter the values of a,b,c in ax^2 + bx + c repectively ').split())\n",
    "\n",
    "import cmath\n",
    "\n",
    "d = cmath.sqrt(b**2 - 4*a*c)\n",
    "\n",
    "p = (-b+d)/2*a\n",
    "q = (-b-d)/2*a\n",
    "print('The values of the roots are {}, {}'.format(p,q))"
   ]
  },
  {
   "cell_type": "code",
   "execution_count": 22,
   "id": "fccd4b7f",
   "metadata": {},
   "outputs": [
    {
     "name": "stdout",
     "output_type": "stream",
     "text": [
      "enter value of a 5\n",
      "enter value of b 6\n",
      "After swapping value of a is 6 and value of b is 5\n"
     ]
    }
   ],
   "source": [
    "#5.Python program to swap two variables without temp variable\n",
    "\n",
    "a = input('enter value of a ')\n",
    "b = input('enter value of b ')\n",
    "\n",
    "print('After swapping value of a is {1} and value of b is {0}'.format(a,b))"
   ]
  },
  {
   "cell_type": "code",
   "execution_count": null,
   "id": "df3470a2",
   "metadata": {},
   "outputs": [],
   "source": []
  }
 ],
 "metadata": {
  "kernelspec": {
   "display_name": "Python 3",
   "language": "python",
   "name": "python3"
  },
  "language_info": {
   "codemirror_mode": {
    "name": "ipython",
    "version": 3
   },
   "file_extension": ".py",
   "mimetype": "text/x-python",
   "name": "python",
   "nbconvert_exporter": "python",
   "pygments_lexer": "ipython3",
   "version": "3.8.8"
  }
 },
 "nbformat": 4,
 "nbformat_minor": 5
}
