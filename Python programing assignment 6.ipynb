{
 "cells": [
  {
   "cell_type": "code",
   "execution_count": null,
   "id": "87b0b6e1",
   "metadata": {},
   "outputs": [],
   "source": [
    "#1.Write a Python Program to Display Fibonacci Sequence Using Recursion?\n",
    "\n",
    "\n",
    "def fibrec(n):\n",
    "    if n <= 1:\n",
    "        return n\n",
    "    else:\n",
    "        return(fibrec(n-2) + fibrec(n-1)) \n",
    "    \n",
    "num = int(input(\"Enter the integer: \"))\n",
    "\n",
    "\n",
    "if num <= 0:\n",
    "    print('Enter a positive integer')\n",
    "else:\n",
    "    print('Fibonacci sequence:')\n",
    "    for i in range(num):\n",
    "        print(fibrec(i))\n"
   ]
  },
  {
   "cell_type": "code",
   "execution_count": 3,
   "id": "371be6c2",
   "metadata": {},
   "outputs": [
    {
     "name": "stdout",
     "output_type": "stream",
     "text": [
      "Enter the integer: 6\n",
      "The factorial value is: 720\n"
     ]
    }
   ],
   "source": [
    "#2.Write a Python Program to Find Factorial of Number Using Recursion?\n",
    "\n",
    "def factorialrec(n):\n",
    "    if n <= 1:\n",
    "        return n\n",
    "    else:\n",
    "        return (factorialrec(n-1)*n)\n",
    "    \n",
    "num = int(input('Enter the integer: '))\n",
    "\n",
    "if num <= 0:\n",
    "    print('Enter a positive integer')\n",
    "else:\n",
    "    print('The factorial value is:',factorialrec(num))\n",
    "    "
   ]
  },
  {
   "cell_type": "code",
   "execution_count": 6,
   "id": "1ad5541f",
   "metadata": {},
   "outputs": [
    {
     "name": "stdout",
     "output_type": "stream",
     "text": [
      "Enter your weight in kgs: 55\n",
      "Enter your height in cms: 165\n",
      "Your BMI value is: 20.2020202020202\n"
     ]
    }
   ],
   "source": [
    "#3.Write a Python Program to calculate your Body Mass Index?\n",
    "\n",
    "w = int(input('Enter your weight in kgs: '))\n",
    "h = int(input('Enter your height in cms: '))\n",
    "H = h*h\n",
    "\n",
    "bmi = w*10000/H\n",
    "\n",
    "print('Your BMI value is:',bmi)\n"
   ]
  },
  {
   "cell_type": "code",
   "execution_count": 4,
   "id": "37638fd1",
   "metadata": {},
   "outputs": [
    {
     "name": "stdout",
     "output_type": "stream",
     "text": [
      "Enter the number: 1\n",
      "The value of natural logarithm of the number is: 0.0\n"
     ]
    }
   ],
   "source": [
    "#4.Write a Python Program to calculate the natural logarithm of any number?\n",
    "\n",
    "n = float(input('Enter the number: '))\n",
    "import math\n",
    "ln = math.log(n)\n",
    "print('The value of natural logarithm of the number is:',ln)\n",
    "\n"
   ]
  },
  {
   "cell_type": "code",
   "execution_count": 8,
   "id": "61f62a66",
   "metadata": {},
   "outputs": [
    {
     "name": "stdout",
     "output_type": "stream",
     "text": [
      "Enter the natural number: 6\n",
      "Sum of cubes of first n natiral numbers is: 441\n"
     ]
    }
   ],
   "source": [
    "#5.Write a Python Program for cube sum of first n natural numbers?\n",
    "\n",
    "N = int(input('Enter the natural number: '))\n",
    "s = N*(N+1)\n",
    "S = s*s/4\n",
    "print('Sum of cubes of first n natiral numbers is:',int(S))"
   ]
  },
  {
   "cell_type": "code",
   "execution_count": null,
   "id": "550c34c9",
   "metadata": {},
   "outputs": [],
   "source": []
  }
 ],
 "metadata": {
  "kernelspec": {
   "display_name": "Python 3",
   "language": "python",
   "name": "python3"
  },
  "language_info": {
   "codemirror_mode": {
    "name": "ipython",
    "version": 3
   },
   "file_extension": ".py",
   "mimetype": "text/x-python",
   "name": "python",
   "nbconvert_exporter": "python",
   "pygments_lexer": "ipython3",
   "version": "3.8.8"
  }
 },
 "nbformat": 4,
 "nbformat_minor": 5
}
