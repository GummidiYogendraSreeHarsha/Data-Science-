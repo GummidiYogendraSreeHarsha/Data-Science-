{
 "cells": [
  {
   "cell_type": "code",
   "execution_count": 14,
   "id": "ba767ced",
   "metadata": {},
   "outputs": [
    {
     "name": "stdout",
     "output_type": "stream",
     "text": [
      "Enter the number to find its factorial: 7\n"
     ]
    },
    {
     "data": {
      "text/plain": [
       "5040"
      ]
     },
     "execution_count": 14,
     "metadata": {},
     "output_type": "execute_result"
    }
   ],
   "source": [
    "#1.Python Program to Find the Factorial of a Number?\n",
    "\n",
    "def factorial(a):\n",
    "    b = 1\n",
    "    for c in range(2, a + 1): \n",
    "        b *= c\n",
    "    return b\n",
    "\n",
    "d = int(input('Enter the number to find its factorial: '))\n",
    "\n",
    "factorial(d)\n"
   ]
  },
  {
   "cell_type": "code",
   "execution_count": null,
   "id": "788de937",
   "metadata": {},
   "outputs": [],
   "source": [
    "#2.Python Program to Display the multiplication Table\n",
    "\n",
    "n = int(input('Enter the number: '))\n",
    "\n",
    "for i in range(1,11):\n",
    "    print(n ,'x', i, \"=\",n*i )\n",
    "    "
   ]
  },
  {
   "cell_type": "code",
   "execution_count": 2,
   "id": "2c4f4009",
   "metadata": {},
   "outputs": [
    {
     "name": "stdout",
     "output_type": "stream",
     "text": [
      "Enter the no.of terms: 6\n",
      "0\n",
      "1\n",
      "1\n",
      "2\n",
      "3\n",
      "5\n"
     ]
    }
   ],
   "source": [
    "#3.Python Program to Print the Fibonacci sequence\n",
    "\n",
    "b = int(input('Enter the no.of terms: '))\n",
    "\n",
    "def fib(n):\n",
    "    if n <= 1:\n",
    "        return(n)\n",
    "    else:\n",
    "        return(fib(n-2)+fib(n-1))\n",
    "        \n",
    "for i in range(b):\n",
    "    print(fib(i))"
   ]
  },
  {
   "cell_type": "code",
   "execution_count": 7,
   "id": "6257a2d6",
   "metadata": {},
   "outputs": [
    {
     "name": "stdout",
     "output_type": "stream",
     "text": [
      "Enter the number: 371\n",
      "The number is an Armstrong number\n"
     ]
    }
   ],
   "source": [
    "#4.Python Program to Check Armstrong Number\n",
    "\n",
    "a = int(input('Enter the number: '))\n",
    "order = len(str(a))\n",
    "base = 0\n",
    "temp = a\n",
    "while temp>0:\n",
    "        digit = temp%10\n",
    "        base += digit**order\n",
    "        temp //= 10\n",
    "if a==base:\n",
    "    print('The number is an Armstrong number')\n",
    "else:\n",
    "    print('The number is not an Armstrong number')\n",
    " \n"
   ]
  },
  {
   "cell_type": "code",
   "execution_count": 9,
   "id": "99bc29e8",
   "metadata": {},
   "outputs": [
    {
     "name": "stdout",
     "output_type": "stream",
     "text": [
      "Enter lower range: 77\n",
      "Enter upper range: 870\n",
      "153 370 371 407 "
     ]
    }
   ],
   "source": [
    "#5.Python Program to Find Armstrong Number in an Interval\n",
    "\n",
    "lower = int(input(\"Enter lower range: \"))\n",
    "upper = int(input(\"Enter upper range: \"))\n",
    "for num in range(lower, upper + 1):\n",
    "    order = len(str(num))\n",
    "    sum = 0\n",
    "    #find the sum of the cube of each digit\n",
    "    temp = num\n",
    "    while temp > 0:\n",
    "        digit = temp % 10\n",
    "        sum += digit ** order \n",
    "        temp //= 10\n",
    "    if num == sum:\n",
    "        print(num, end = ' ')"
   ]
  },
  {
   "cell_type": "code",
   "execution_count": 6,
   "id": "50a272a9",
   "metadata": {},
   "outputs": [
    {
     "name": "stdout",
     "output_type": "stream",
     "text": [
      "Enter the no.of natural numbers: 6\n",
      "Sum of 6 natural numbers =  21.0\n"
     ]
    }
   ],
   "source": [
    "#6.Python Program to Find the Sum of Natural Numbers\n",
    "\n",
    "n = int(input('Enter the no.of natural numbers: '))\n",
    "sum = n*0.5*(n+1)\n",
    "print('Sum of {} natural numbers = '.format(n),sum)"
   ]
  },
  {
   "cell_type": "code",
   "execution_count": null,
   "id": "9e38a9cf",
   "metadata": {},
   "outputs": [],
   "source": []
  }
 ],
 "metadata": {
  "kernelspec": {
   "display_name": "Python 3",
   "language": "python",
   "name": "python3"
  },
  "language_info": {
   "codemirror_mode": {
    "name": "ipython",
    "version": 3
   },
   "file_extension": ".py",
   "mimetype": "text/x-python",
   "name": "python",
   "nbconvert_exporter": "python",
   "pygments_lexer": "ipython3",
   "version": "3.8.8"
  }
 },
 "nbformat": 4,
 "nbformat_minor": 5
}
