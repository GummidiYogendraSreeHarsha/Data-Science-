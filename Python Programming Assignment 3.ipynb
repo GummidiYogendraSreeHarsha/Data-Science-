{
 "cells": [
  {
   "cell_type": "code",
   "execution_count": 12,
   "id": "9642e23d",
   "metadata": {},
   "outputs": [
    {
     "name": "stdout",
     "output_type": "stream",
     "text": [
      "Enter the number: -98\n",
      "The number is negative\n"
     ]
    }
   ],
   "source": [
    "#1.Python Program to Check if a Number is Positive, Negative or Zero\n",
    "\n",
    "a = int(input('Enter the number: '))\n",
    "\n",
    "if a>0:\n",
    "    print('The number is positive')\n",
    "elif a<0:\n",
    "    print('The number is negative')\n",
    "else:\n",
    "    print('The entered number is 0')"
   ]
  },
  {
   "cell_type": "code",
   "execution_count": null,
   "id": "0bb9858f",
   "metadata": {},
   "outputs": [],
   "source": [
    "#2.Python Program to Check if a Number is Odd or Even\n",
    "\n",
    "a = int(input('Enter the number: '))\n",
    "\n",
    "if a%2 == 0:\n",
    "    print('The number is even')\n",
    "else:\n",
    "    print('The number id odd')\n",
    "    "
   ]
  },
  {
   "cell_type": "code",
   "execution_count": 2,
   "id": "a7ca073e",
   "metadata": {},
   "outputs": [
    {
     "name": "stdout",
     "output_type": "stream",
     "text": [
      "Enter the year: 1945\n",
      "It is not a leap year\n"
     ]
    }
   ],
   "source": [
    "#3.Python Program to Check Leap Year\n",
    "\n",
    "a = int(input('Enter the year: '))\n",
    "\n",
    "if a%4 == 0:\n",
    "    print('It is a leap year')\n",
    "else:\n",
    "    print('It is not a leap year')"
   ]
  },
  {
   "cell_type": "code",
   "execution_count": 10,
   "id": "d5fb805c",
   "metadata": {},
   "outputs": [
    {
     "name": "stdout",
     "output_type": "stream",
     "text": [
      "Enter the number: 3\n",
      "It is a prime number\n"
     ]
    }
   ],
   "source": [
    "#4.Python Program to Check Prime Number\n",
    "\n",
    "a = int(input('Enter the number: '))\n",
    "\n",
    "for i in range(2,a+1):\n",
    "    if a%i == 0:\n",
    "        print('It is not a prime number')\n",
    "        break\n",
    "    elif a<2:\n",
    "        print('It is not a prime number')\n",
    "        break\n",
    "    else:\n",
    "        print('It is a prime number')\n",
    "        break"
   ]
  },
  {
   "cell_type": "code",
   "execution_count": 24,
   "id": "d192983f",
   "metadata": {},
   "outputs": [
    {
     "name": "stdout",
     "output_type": "stream",
     "text": [
      "2\n",
      "3\n",
      "5\n",
      "7\n"
     ]
    }
   ],
   "source": [
    "#5.Python Program to Print all Prime Numbers in an Interval of 1-10000\n",
    "\n",
    "for a in range(1,10001):\n",
    "    if a > 1:\n",
    "        for i in range(2,a):      \n",
    "            if a%i == 0:\n",
    "                break\n",
    "        else:\n",
    "            print(a)"
   ]
  },
  {
   "cell_type": "code",
   "execution_count": null,
   "id": "edbefbf5",
   "metadata": {},
   "outputs": [],
   "source": []
  }
 ],
 "metadata": {
  "kernelspec": {
   "display_name": "Python 3",
   "language": "python",
   "name": "python3"
  },
  "language_info": {
   "codemirror_mode": {
    "name": "ipython",
    "version": 3
   },
   "file_extension": ".py",
   "mimetype": "text/x-python",
   "name": "python",
   "nbconvert_exporter": "python",
   "pygments_lexer": "ipython3",
   "version": "3.8.8"
  }
 },
 "nbformat": 4,
 "nbformat_minor": 5
}
