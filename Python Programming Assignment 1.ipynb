{
 "cells": [
  {
   "cell_type": "code",
   "execution_count": 1,
   "id": "fe190811",
   "metadata": {},
   "outputs": [
    {
     "name": "stdout",
     "output_type": "stream",
     "text": [
      "Hello Python\n"
     ]
    }
   ],
   "source": [
    "#1.printing 'Hello Python'\n",
    "print(\"Hello Python\")"
   ]
  },
  {
   "cell_type": "code",
   "execution_count": 12,
   "id": "ee895802",
   "metadata": {},
   "outputs": [
    {
     "name": "stdout",
     "output_type": "stream",
     "text": [
      "Enter the value of a = 7\n",
      "Enter the value of b = 8\n",
      "a+b = 15\n",
      "a/b =  0.875\n"
     ]
    }
   ],
   "source": [
    "#2.Python program to do arithmetical operations addition and division\n",
    "\n",
    "a = int(input('Enter the value of a = '))\n",
    "b = int(input('Enter the value of b = '))\n",
    "add = a+b\n",
    "div = a/b\n",
    "print('a+b =',add) \n",
    "print('a/b = ',div)"
   ]
  },
  {
   "cell_type": "code",
   "execution_count": 14,
   "id": "184eff03",
   "metadata": {},
   "outputs": [
    {
     "name": "stdout",
     "output_type": "stream",
     "text": [
      "Enter the base of the triangle = 8\n",
      "Enter the height of the triangle = 9\n",
      "The Area of the triangle with base 8 and height 9 is 36\n"
     ]
    }
   ],
   "source": [
    "#3.Python program to find the area of a triangle\n",
    "\n",
    "b = int(input('Enter the base of the triangle = '))\n",
    "h = int(input('Enter the height of the triangle = '))\n",
    "\n",
    "a=0.5*b*h\n",
    "\n",
    "print('The Area of the triangle with base {0} and height {1} is {2}'.format(b,h,a))"
   ]
  },
  {
   "cell_type": "code",
   "execution_count": 6,
   "id": "0754a4d8",
   "metadata": {},
   "outputs": [
    {
     "name": "stdout",
     "output_type": "stream",
     "text": [
      "a = 12\n",
      "b = 23\n",
      "value of a after swapping:23\n",
      "value of b after swapping:12\n"
     ]
    }
   ],
   "source": [
    "#4.Python program to swap two variables\n",
    "\n",
    "b = int(input('a = '))\n",
    "a = int(input('b = '))\n",
    "\n",
    "temp=b\n",
    "b=a\n",
    "b=temp\n",
    "\n",
    "print('value of a after swapping:{}'.format(a))\n",
    "print('value of b after swapping:{}'.format(b))"
   ]
  },
  {
   "cell_type": "code",
   "execution_count": 12,
   "id": "ecd5793c",
   "metadata": {},
   "outputs": [
    {
     "name": "stdout",
     "output_type": "stream",
     "text": [
      "0.27631398737033386\n"
     ]
    }
   ],
   "source": [
    "#5.Python program to generate a random number\n",
    "\n",
    "import random\n",
    "n = random.random()\n",
    "print(n)"
   ]
  },
  {
   "cell_type": "code",
   "execution_count": null,
   "id": "99898db1",
   "metadata": {},
   "outputs": [],
   "source": []
  }
 ],
 "metadata": {
  "kernelspec": {
   "display_name": "Python 3",
   "language": "python",
   "name": "python3"
  },
  "language_info": {
   "codemirror_mode": {
    "name": "ipython",
    "version": 3
   },
   "file_extension": ".py",
   "mimetype": "text/x-python",
   "name": "python",
   "nbconvert_exporter": "python",
   "pygments_lexer": "ipython3",
   "version": "3.8.8"
  }
 },
 "nbformat": 4,
 "nbformat_minor": 5
}
