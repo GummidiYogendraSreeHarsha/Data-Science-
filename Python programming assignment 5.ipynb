{
 "cells": [
  {
   "cell_type": "code",
   "execution_count": 12,
   "id": "0da47a39",
   "metadata": {},
   "outputs": [
    {
     "name": "stdout",
     "output_type": "stream",
     "text": [
      "Enter a two value: 3 4\n",
      "The L.C.M. is 12\n"
     ]
    }
   ],
   "source": [
    "#1.Write a Python Program to Find LCM?\n",
    "\n",
    "def lcm(x, y):\n",
    "    if x > y:\n",
    "        greater = x\n",
    "    else:\n",
    "        greater = y\n",
    "\n",
    "    while(True):\n",
    "        if((greater % x == 0) and (greater % y == 0)):\n",
    "            lcm = greater\n",
    "            break\n",
    "        greater += 1\n",
    "\n",
    "    return lcm\n",
    "m, n =input(\"Enter a two value: \").split()\n",
    "M = int(m)\n",
    "N = int(n)\n",
    "\n",
    "print(\"The L.C.M is\",lcm(M,N))"
   ]
  },
  {
   "cell_type": "code",
   "execution_count": 13,
   "id": "b265c2c0",
   "metadata": {},
   "outputs": [
    {
     "name": "stdout",
     "output_type": "stream",
     "text": [
      "Enter a two value: 3 4\n",
      "The H.C.F is 1\n"
     ]
    }
   ],
   "source": [
    "#2.Write a Python Program to Find HCF?\n",
    "\n",
    "def hcf(x, y):\n",
    "\n",
    "    if x > y:\n",
    "        smaller = y\n",
    "    else:\n",
    "        smaller = x\n",
    "    for i in range(1, smaller+1):\n",
    "        if((x % i == 0) and (y % i == 0)):\n",
    "            hcf = i \n",
    "    return hcf\n",
    "m, n =input(\"Enter a two value: \").split()\n",
    "M = int(m)\n",
    "N = int(n)\n",
    "\n",
    "print(\"The H.C.F is\",hcf(M,N))\n"
   ]
  },
  {
   "cell_type": "code",
   "execution_count": 24,
   "id": "c7502d0d",
   "metadata": {},
   "outputs": [
    {
     "name": "stdout",
     "output_type": "stream",
     "text": [
      "Enter the Decimal number:77\n",
      "Binary value of the number is: 1001101\n",
      "Octal value of the number is: 115\n",
      "Hexadecimal value of the number is: 4d\n"
     ]
    }
   ],
   "source": [
    "#3.Write a Python Program to Convert Decimal to Binary, Octal and Hexadecimal?\n",
    "\n",
    "n = int(input('Enter the Decimal number:'))\n",
    "\n",
    "print('Binary value of the number is:',bin(n)[2:])\n",
    "print('Octal value of the number is:',oct(n)[2:])\n",
    "print('Hexadecimal value of the number is:',hex(n)[2:])\n"
   ]
  },
  {
   "cell_type": "code",
   "execution_count": 32,
   "id": "fdbc3157",
   "metadata": {
    "scrolled": true
   },
   "outputs": [
    {
     "name": "stdout",
     "output_type": "stream",
     "text": [
      "Enter a charecter:k\n",
      "the ASCII value of the charecter is: 107\n"
     ]
    }
   ],
   "source": [
    "#4.Write a Python Program To Find ASCII value of a character?\n",
    " \n",
    "def ascii(n):\n",
    "    return ord(n)\n",
    "\n",
    "m = str(input('Enter a charecter:'))\n",
    "print ('the ASCII value of the charecter is:',ascii(m))"
   ]
  },
  {
   "cell_type": "code",
   "execution_count": 2,
   "id": "fc7cf8fd",
   "metadata": {},
   "outputs": [
    {
     "name": "stdout",
     "output_type": "stream",
     "text": [
      "Select operation.\n",
      "1.Add\n",
      "2.Subtract\n",
      "3.Multiply\n",
      "4.Divide\n",
      "Enter choice(1/2/3/4): 4\n",
      "Enter first number: 55\n",
      "Enter second number: 5\n",
      "55.0 / 5.0 = 11.0\n"
     ]
    }
   ],
   "source": [
    "#5.Write a Python Program to Make a Simple Calculator with 4 basic mathematical operations?\n",
    "\n",
    "def add(m, n):\n",
    "    return m + n\n",
    "\n",
    "def subtract(m, n):\n",
    "    return m - n\n",
    "\n",
    "def multiply(m, n):\n",
    "    return m * n\n",
    "\n",
    "def divide(m, n):\n",
    "    return m / n\n",
    "\n",
    "\n",
    "print(\"Select operation.\")\n",
    "print(\"1.Add\")\n",
    "print(\"2.Subtract\")\n",
    "print(\"3.Multiply\")\n",
    "print(\"4.Divide\")\n",
    "\n",
    "while True:\n",
    "    # input from the user\n",
    "    choice = input(\"Enter choice(1/2/3/4): \")\n",
    "\n",
    "    # if choice is one of the four options\n",
    "    if choice in ('1','2','3','4','5'):\n",
    "        num1 = float(input(\"Enter first number: \"))\n",
    "        num2 = float(input(\"Enter second number: \"))\n",
    "\n",
    "        if choice == '1':\n",
    "            print(num1, \"+\", num2, \"=\", add(num1, num2))\n",
    "\n",
    "        elif choice == '2':\n",
    "            print(num1, \"-\", num2, \"=\", subtract(num1, num2))\n",
    "\n",
    "        elif choice == '3':\n",
    "            print(num1, \"*\", num2, \"=\", multiply(num1, num2))\n",
    "\n",
    "        elif choice == '4':\n",
    "            print(num1, \"/\", num2, \"=\", divide(num1, num2))\n",
    "        break\n",
    "    else:\n",
    "        print(\"Invalid Input\")"
   ]
  }
 ],
 "metadata": {
  "kernelspec": {
   "display_name": "Python 3",
   "language": "python",
   "name": "python3"
  },
  "language_info": {
   "codemirror_mode": {
    "name": "ipython",
    "version": 3
   },
   "file_extension": ".py",
   "mimetype": "text/x-python",
   "name": "python",
   "nbconvert_exporter": "python",
   "pygments_lexer": "ipython3",
   "version": "3.8.8"
  }
 },
 "nbformat": 4,
 "nbformat_minor": 5
}
